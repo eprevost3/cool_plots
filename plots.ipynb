{
 "cells": [
  {
   "cell_type": "code",
   "execution_count": 1,
   "metadata": {},
   "outputs": [],
   "source": [
    "import os\n",
    "import numpy as np \n",
    "import matplotlib.pyplot as plt \n",
    "\n",
    "FOLDER_IMG = \"img\""
   ]
  },
  {
   "cell_type": "code",
   "execution_count": 2,
   "metadata": {},
   "outputs": [],
   "source": [
    "import glob\n",
    "from PIL import Image\n",
    "\n",
    "def make_gif(frame_folder):\n",
    "    imgs = os.listdir(frame_folder)\n",
    "\n",
    "    # sort the images which are not correctly organized in the img folder\n",
    "    sort = lambda x: int(x.split(\"_\")[-1].replace(\".jpg\", \"\"))\n",
    "    imgs.sort(key=sort)\n",
    "\n",
    "    frames = [Image.open(f\"{FOLDER_IMG}/{image}\") for image in imgs]\n",
    "    frame_one = frames[0]\n",
    "    frame_one.save(\"curves.gif\", format=\"GIF\", append_images=frames,\n",
    "               save_all=True, duration=100, loop=1)\n",
    "    \n",
    "\n",
    "make_gif(FOLDER_IMG)\n"
   ]
  },
  {
   "cell_type": "code",
   "execution_count": null,
   "metadata": {},
   "outputs": [],
   "source": []
  }
 ],
 "metadata": {
  "kernelspec": {
   "display_name": "Python 3 (ipykernel)",
   "language": "python",
   "name": "python3"
  },
  "language_info": {
   "codemirror_mode": {
    "name": "ipython",
    "version": 3
   },
   "file_extension": ".py",
   "mimetype": "text/x-python",
   "name": "python",
   "nbconvert_exporter": "python",
   "pygments_lexer": "ipython3",
   "version": "3.10.6"
  },
  "orig_nbformat": 4
 },
 "nbformat": 4,
 "nbformat_minor": 2
}
